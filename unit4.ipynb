{
 "cells": [
  {
   "cell_type": "code",
   "execution_count": 2,
   "metadata": {},
   "outputs": [],
   "source": [
    "import pydot\n",
    "import pandas as pd\n",
    "import numpy as np\n",
    "import seaborn as sns\n",
    "sns.set()\n",
    "\n",
    "%matplotlib inline\n",
    "import matplotlib\n",
    "import matplotlib.pyplot as plt\n",
    "from matplotlib import colors as mcolors\n",
    "\n",
    "# Ignore warnings\n",
    "import warnings\n",
    "warnings.filterwarnings('ignore')\n",
    "\n",
    "\n",
    "# Import 'tree' from scikit-learn library\n",
    "from sklearn import tree\n"
   ]
  },
  {
   "cell_type": "markdown",
   "metadata": {},
   "source": [
    "# Data"
   ]
  },
  {
   "cell_type": "markdown",
   "metadata": {},
   "source": [
    "## Data Preprocessing\n",
    "### 1. Filling NaNs"
   ]
  },
  {
   "cell_type": "code",
   "execution_count": 50,
   "metadata": {},
   "outputs": [],
   "source": [
    "train_df=pd.read_csv('data/cld-demo-training-data.csv')\n",
    "test_df=pd.read_csv('data/cld-demo-test-data.csv')"
   ]
  },
  {
   "cell_type": "code",
   "execution_count": null,
   "metadata": {},
   "outputs": [],
   "source": [
    "print(train_df.isna().sum())\n",
    "print(test_df.isna().sum())"
   ]
  },
  {
   "cell_type": "markdown",
   "metadata": {},
   "source": [
    "### 1. Filling in NaN/empty `priority` &`object_code`in `train_df`,`test_df`"
   ]
  },
  {
   "cell_type": "code",
   "execution_count": null,
   "metadata": {},
   "outputs": [],
   "source": [
    "print(train_df.priority.unique())"
   ]
  },
  {
   "cell_type": "code",
   "execution_count": 53,
   "metadata": {},
   "outputs": [],
   "source": [
    "train_df.priority=train_df.priority.fillna(\"No_se\")\n",
    "train_df.priority[train_df['priority'] == ' '] = 'No'\n",
    "train_df.priority[train_df['priority'] == '1'] = 'Si'"
   ]
  },
  {
   "cell_type": "code",
   "execution_count": 54,
   "metadata": {},
   "outputs": [],
   "source": [
    "test_df.priority=test_df.priority.fillna(\"No_se\")\n",
    "test_df.priority[test_df['priority'] == ' '] = 'No'\n",
    "test_df.priority[test_df['priority'] == '1'] = 'Si'"
   ]
  },
  {
   "cell_type": "code",
   "execution_count": null,
   "metadata": {},
   "outputs": [],
   "source": [
    "print(test_df.isna().sum())"
   ]
  },
  {
   "cell_type": "code",
   "execution_count": null,
   "metadata": {},
   "outputs": [],
   "source": [
    "test_df.object_code=test_df.object_code.fillna(\"No_se\")\n",
    "#test_df=test_df.drop('resource_id3', axis=1)\n",
    "print(test_df.isna().sum())"
   ]
  },
  {
   "cell_type": "code",
   "execution_count": null,
   "metadata": {},
   "outputs": [],
   "source": [
    "print(train_df.priority.unique())"
   ]
  },
  {
   "cell_type": "markdown",
   "metadata": {},
   "source": [
    "### 2. Drop columns with only a single value in each column"
   ]
  },
  {
   "cell_type": "code",
   "execution_count": null,
   "metadata": {},
   "outputs": [],
   "source": [
    "print(train_df.T.apply(lambda x: x.nunique(), axis=1)== 1)\n",
    "print(test_df.T.apply(lambda x: x.nunique(), axis=1)== 1)\n",
    "test_df=test_df.drop(['resource_id3'], axis=1)\n",
    "test_df.columns"
   ]
  },
  {
   "cell_type": "code",
   "execution_count": null,
   "metadata": {},
   "outputs": [],
   "source": [
    "print(col[train_df.T.apply(lambda x: x.nunique(), axis=1)== 1])\n",
    "print(col[test_df.T.apply(lambda x: x.nunique(), axis=1)== 1])"
   ]
  },
  {
   "cell_type": "code",
   "execution_count": null,
   "metadata": {},
   "outputs": [],
   "source": [
    "train_df=train_df.drop(['client', 'service_pool', 'object_code', 'appointment'],axis=1)\n",
    "print(train_df.columns)\n",
    "test_df=test_df.drop(['client', 'service_pool', 'object_code', 'appointment'],axis=1)\n",
    "print(test_df.columns)"
   ]
  },
  {
   "cell_type": "markdown",
   "metadata": {},
   "source": [
    "#### Keep the original files\n",
    "**From here I'll work with the new dataframes `train` and `test`**\n",
    " "
   ]
  },
  {
   "cell_type": "code",
   "execution_count": 75,
   "metadata": {},
   "outputs": [],
   "source": [
    "train=train_df.copy()\n",
    "test=test_df.copy()"
   ]
  },
  {
   "cell_type": "markdown",
   "metadata": {},
   "source": [
    "### 3. Classify by type of work: `cons, nrg, plumb, carp, stuff`"
   ]
  },
  {
   "cell_type": "markdown",
   "metadata": {},
   "source": [
    "###  Filtering `train.descrption`/`test.description``\n",
    "\n",
    "I get a new column with the type of work performed `train.type` and `test.type`"
   ]
  },
  {
   "cell_type": "markdown",
   "metadata": {},
   "source": [
    "#### Define pattern for filtering and give class names to new column\n",
    "It's valid for train and test"
   ]
  },
  {
   "cell_type": "code",
   "execution_count": null,
   "metadata": {},
   "outputs": [],
   "source": [
    "pattern_cons='ret|wall|ceiling|buil|cons'\n",
    "pattern_nrg= 'wiring|media|elect'\n",
    "pattern_plumb='water system|plumb'\n",
    "pattern_carp= 'shelving|table|door'\n",
    "pattern_stuff='stuff|holes|No water|No warn water'\n",
    "pattern_work=pd.Series([pattern_cons,pattern_nrg,pattern_plumb,\n",
    "                           pattern_carp,pattern_stuff])\n",
    "\n",
    "class_str=['constr','elect','plumb','carp','handyman']\n",
    "class_str"
   ]
  },
  {
   "cell_type": "code",
   "execution_count": 77,
   "metadata": {},
   "outputs": [],
   "source": [
    "import re"
   ]
  },
  {
   "cell_type": "code",
   "execution_count": 78,
   "metadata": {},
   "outputs": [],
   "source": [
    "for x in range(5):\n",
    "    vector={'pattern': pattern_work[x],'type_work':class_str[x]}\n",
    "    v=pd.Series(train['descrption'])\n",
    "    v=v.replace(\"Build a wall and add a new door\", \"Build a wall and add a new\") \n",
    "    v=v.str.lower()\n",
    "    pattern=vector['pattern']\n",
    "    match_str=x\n",
    "    v_binary=pd.Series([match_str]*len(v))       \n",
    "    s=v.str.contains(pattern, flags=re.IGNORECASE, regex=True)\n",
    "    df=pd.DataFrame(v_binary[s])\n",
    "    \n",
    "    if x == 0:\n",
    "        df0=df\n",
    "    if x==1:\n",
    "        df1=pd.DataFrame(df)\n",
    "    if x == 2:\n",
    "        df2 =pd.DataFrame(df)\n",
    "    if x == 3:\n",
    "        df3 =pd.DataFrame(df)  \n",
    "    if x == 4:\n",
    "        df4 =pd.DataFrame(df)\n",
    "\n",
    "df0=df0.append([df1,df2,df3,df4], sort=False)\n",
    "train['type']=df0"
   ]
  },
  {
   "cell_type": "code",
   "execution_count": 79,
   "metadata": {},
   "outputs": [],
   "source": [
    "for x in range(5):\n",
    "    vector={'pattern': pattern_work[x],'type_work':class_str[x]}\n",
    "    v=pd.Series(test['descrption'])\n",
    "    v=v.replace(\"Build a wall and add a new door\", \"Build a wall and add a new\") \n",
    "    v=v.str.lower()\n",
    "    pattern=vector['pattern']\n",
    "    match_str=x\n",
    "    v_binary=pd.Series([match_str]*len(v))       \n",
    "    s=v.str.contains(pattern, flags=re.IGNORECASE, regex=True)\n",
    "    df=pd.DataFrame(v_binary[s])\n",
    "    \n",
    "    if x == 0:\n",
    "        df0=df\n",
    "    if x==1:\n",
    "        df1=pd.DataFrame(df)\n",
    "    if x == 2:\n",
    "        df2 =pd.DataFrame(df)\n",
    "    if x == 3:\n",
    "        df3 =pd.DataFrame(df)  \n",
    "    if x == 4:\n",
    "        df4 =pd.DataFrame(df)\n",
    "\n",
    "df0=df0.append([df1,df2,df3,df4], sort=False)\n",
    "test['type']=df0"
   ]
  },
  {
   "cell_type": "code",
   "execution_count": null,
   "metadata": {},
   "outputs": [],
   "source": [
    "# Count the unique values in ''type' and sort the index\n",
    "print(train.type.value_counts().sort_index())\n",
    "\n",
    "# Create a dictionary that maps integers to strings\n",
    "keys=list(range(0,5))\n",
    "print(keys)\n",
    "print(class_str)\n",
    "val=class_str\n",
    "mapping = dict(zip(keys,val))\n",
    "\n",
    "# Convert the 'numbers' integers to strings using the 'mapping'\n",
    "train['work_type'] = train.type.map(mapping)\n",
    "\n",
    "# Count the unique values in 'rating'\n",
    "print(train.work_type.value_counts())"
   ]
  },
  {
   "cell_type": "code",
   "execution_count": 185,
   "metadata": {},
   "outputs": [],
   "source": [
    "train['work_type'] = train.work_type.astype('category',ordered=True)"
   ]
  },
  {
   "cell_type": "code",
   "execution_count": null,
   "metadata": {},
   "outputs": [],
   "source": [
    "# Count the unique values in ''type' and sort the index\n",
    "print(test.type.value_counts().sort_index())\n",
    "\n",
    "# Create a dictionary that maps integers to strings\n",
    "keys=list(range(0,5))\n",
    "print(keys)\n",
    "print(class_str)\n",
    "val=class_str\n",
    "mapping = dict(zip(keys,val))\n",
    "\n",
    "# Convert the 'numbers' integers to strings using the 'mapping'\n",
    "test['work_type'] = test.type.map(mapping)\n",
    "\n",
    "# Count the unique values in 'rating'\n",
    "print(test.work_type.value_counts())"
   ]
  },
  {
   "cell_type": "code",
   "execution_count": 184,
   "metadata": {},
   "outputs": [],
   "source": [
    "test['work_type'] = test.work_type.astype('category',ordered=True)"
   ]
  },
  {
   "cell_type": "code",
   "execution_count": 135,
   "metadata": {},
   "outputs": [
    {
     "data": {
      "text/plain": [
       "Arts and Humanities Stamford St Lambeth London SE1 9NH                             47\n",
       "City Council Main Street 1 London NW1 1PS                                         121\n",
       "Computing Science Guy's Campus King's College London London SE1 1UL                99\n",
       "Science University London Strand Campus Strand London WC2R 2LS                     60\n",
       "The Institute of Cancer Research 123 Old Brompton Rd Kensington London SW7 3RP     24\n",
       "Name: location, dtype: int64"
      ]
     },
     "execution_count": 135,
     "metadata": {},
     "output_type": "execute_result"
    }
   ],
   "source": [
    "c=pd.DataFrame(train['location'])\n",
    "c.columns=['location']\n",
    "c.location.value_counts().sort_index(axis=0)"
   ]
  },
  {
   "cell_type": "markdown",
   "metadata": {},
   "source": [
    "### 4. Encode Labels"
   ]
  },
  {
   "cell_type": "code",
   "execution_count": 178,
   "metadata": {},
   "outputs": [],
   "source": [
    "from sklearn import preprocessing\n",
    "\n",
    "le = preprocessing.LabelEncoder()\n",
    "\n",
    "# Converting string labels into numbers.The labels are int64\n",
    "c=le.fit_transform(train['location'])\n",
    "d=le.fit_transform(test['location'])\n",
    "c=pd.DataFrame(c)\n",
    "d=pd.DataFrame(d)\n",
    "c.columns=['loc']\n",
    "d.columns=['loc']\n",
    "train['loc2']=c\n",
    "test['loc2']=d"
   ]
  },
  {
   "cell_type": "code",
   "execution_count": null,
   "metadata": {},
   "outputs": [],
   "source": [
    "# Count the unique values in ''type' and sort the index\n",
    "print(train.loc2.value_counts().sort_index())\n",
    "# Create a dictionary that maps integers to strings\n",
    "keys_l=list(range(0,5))\n",
    "val_l=['Arts_Stamford','City_Council', 'Computing_College',\n",
    "    'Science_Univ', 'Cancer_Inst']\n",
    "print(val_l)\n",
    "mapping = dict(zip(keys_l,val_l))\n",
    "print(mapping)\n",
    "# Convert the 'numbers' integers to strings using the 'mapping'\n",
    "train['loc1']=train.loc2.map(mapping, na_action=None)\n",
    "print(train.loc1.value_counts())\n",
    "train=train.drop(['loc2'], axis=1)"
   ]
  },
  {
   "cell_type": "code",
   "execution_count": 201,
   "metadata": {},
   "outputs": [
    {
     "data": {
      "text/html": [
       "<div>\n",
       "<style scoped>\n",
       "    .dataframe tbody tr th:only-of-type {\n",
       "        vertical-align: middle;\n",
       "    }\n",
       "\n",
       "    .dataframe tbody tr th {\n",
       "        vertical-align: top;\n",
       "    }\n",
       "\n",
       "    .dataframe thead th {\n",
       "        text-align: right;\n",
       "    }\n",
       "</style>\n",
       "<table border=\"1\" class=\"dataframe\">\n",
       "  <thead>\n",
       "    <tr style=\"text-align: right;\">\n",
       "      <th></th>\n",
       "      <th>work_orer</th>\n",
       "      <th>priority</th>\n",
       "      <th>start_date</th>\n",
       "      <th>error_code</th>\n",
       "      <th>order_type</th>\n",
       "      <th>project</th>\n",
       "      <th>resource_id2</th>\n",
       "      <th>type</th>\n",
       "      <th>work_type</th>\n",
       "      <th>loc1</th>\n",
       "    </tr>\n",
       "  </thead>\n",
       "  <tbody>\n",
       "    <tr>\n",
       "      <th>21</th>\n",
       "      <td>130307</td>\n",
       "      <td>No</td>\n",
       "      <td>2018-10-05 00:00:00.000</td>\n",
       "      <td>4</td>\n",
       "      <td>IO</td>\n",
       "      <td>SERVICE</td>\n",
       "      <td>90080101</td>\n",
       "      <td>2</td>\n",
       "      <td>plumb</td>\n",
       "      <td>Science_Univ</td>\n",
       "    </tr>\n",
       "    <tr>\n",
       "      <th>138</th>\n",
       "      <td>130476</td>\n",
       "      <td>No</td>\n",
       "      <td>2018-10-16 00:00:00.000</td>\n",
       "      <td>3</td>\n",
       "      <td>SO</td>\n",
       "      <td>UK100</td>\n",
       "      <td>80080303</td>\n",
       "      <td>4</td>\n",
       "      <td>handyman</td>\n",
       "      <td>City_Council</td>\n",
       "    </tr>\n",
       "    <tr>\n",
       "      <th>257</th>\n",
       "      <td>130533</td>\n",
       "      <td>Si</td>\n",
       "      <td>2018-10-19 00:00:00.000</td>\n",
       "      <td>3</td>\n",
       "      <td>SO</td>\n",
       "      <td>UK100</td>\n",
       "      <td>90080101</td>\n",
       "      <td>4</td>\n",
       "      <td>handyman</td>\n",
       "      <td>City_Council</td>\n",
       "    </tr>\n",
       "  </tbody>\n",
       "</table>\n",
       "</div>"
      ],
      "text/plain": [
       "     work_orer priority               start_date error_code order_type  \\\n",
       "21      130307       No  2018-10-05 00:00:00.000          4         IO   \n",
       "138     130476       No  2018-10-16 00:00:00.000          3         SO   \n",
       "257     130533       Si  2018-10-19 00:00:00.000          3         SO   \n",
       "\n",
       "     project  resource_id2  type work_type          loc1  \n",
       "21   SERVICE      90080101     2     plumb  Science_Univ  \n",
       "138    UK100      80080303     4  handyman  City_Council  \n",
       "257    UK100      90080101     4  handyman  City_Council  "
      ]
     },
     "execution_count": 201,
     "metadata": {},
     "output_type": "execute_result"
    }
   ],
   "source": [
    "train['loc1'] = train.loc1.astype('category',ordered=True)\n",
    "#train=train.drop(['location','loc2', descrption','end_date'],axis=1)\n",
    "train.sample(3)"
   ]
  },
  {
   "cell_type": "code",
   "execution_count": 183,
   "metadata": {},
   "outputs": [],
   "source": [
    "train['loc1'] = train.loc1.astype('category',ordered=True)"
   ]
  },
  {
   "cell_type": "code",
   "execution_count": null,
   "metadata": {},
   "outputs": [],
   "source": [
    "# Count the unique values in ''type' and sort the index\n",
    "print(test.loc2.value_counts().sort_index())\n",
    "# Create a dictionary that maps integers to strings\n",
    "keys_l=list(range(0,5))\n",
    "val_l=['Arts_Stamford','City_Council', 'Computing_College',\n",
    "    'Science_Univ', 'Cancer_Inst']\n",
    "print(val_l)\n",
    "mapping = dict(zip(keys_l,val_l))\n",
    "print(mapping)\n",
    "# Convert the 'numbers' integers to strings using the 'mapping'\n",
    "test['loc1']=test.loc2.map(mapping, na_action=None)\n",
    "print(test.loc1.value_counts())\n",
    "test=test.drop(['loc2'], axis=1)"
   ]
  },
  {
   "cell_type": "code",
   "execution_count": 272,
   "metadata": {},
   "outputs": [],
   "source": [
    "test['loc1'] = test.loc1.astype('category',ordered=True)\n",
    "#test=test.drop(['location','descrption','end_date'],axis=1)"
   ]
  },
  {
   "cell_type": "code",
   "execution_count": 273,
   "metadata": {},
   "outputs": [
    {
     "data": {
      "text/html": [
       "<div>\n",
       "<style scoped>\n",
       "    .dataframe tbody tr th:only-of-type {\n",
       "        vertical-align: middle;\n",
       "    }\n",
       "\n",
       "    .dataframe tbody tr th {\n",
       "        vertical-align: top;\n",
       "    }\n",
       "\n",
       "    .dataframe thead th {\n",
       "        text-align: right;\n",
       "    }\n",
       "</style>\n",
       "<table border=\"1\" class=\"dataframe\">\n",
       "  <thead>\n",
       "    <tr style=\"text-align: right;\">\n",
       "      <th></th>\n",
       "      <th>work_orer</th>\n",
       "      <th>priority</th>\n",
       "      <th>start_date</th>\n",
       "      <th>error_code</th>\n",
       "      <th>order_type</th>\n",
       "      <th>project</th>\n",
       "      <th>resource_id2</th>\n",
       "      <th>work_type</th>\n",
       "      <th>loc1</th>\n",
       "    </tr>\n",
       "  </thead>\n",
       "  <tbody>\n",
       "    <tr>\n",
       "      <th>0</th>\n",
       "      <td>130720</td>\n",
       "      <td>Si</td>\n",
       "      <td>2018-11-07 00:00:00.000</td>\n",
       "      <td>C</td>\n",
       "      <td>SO</td>\n",
       "      <td>UK100</td>\n",
       "      <td>90020101</td>\n",
       "      <td>constr</td>\n",
       "      <td>City_Council</td>\n",
       "    </tr>\n",
       "    <tr>\n",
       "      <th>1</th>\n",
       "      <td>130721</td>\n",
       "      <td>No</td>\n",
       "      <td>2018-11-07 00:00:00.000</td>\n",
       "      <td>C</td>\n",
       "      <td>IO</td>\n",
       "      <td>SERVICE</td>\n",
       "      <td>90020101</td>\n",
       "      <td>constr</td>\n",
       "      <td>Science_Univ</td>\n",
       "    </tr>\n",
       "    <tr>\n",
       "      <th>2</th>\n",
       "      <td>130722</td>\n",
       "      <td>Si</td>\n",
       "      <td>2018-11-07 00:00:00.000</td>\n",
       "      <td>C</td>\n",
       "      <td>SO</td>\n",
       "      <td>SERVICE</td>\n",
       "      <td>90020101</td>\n",
       "      <td>constr</td>\n",
       "      <td>Science_Univ</td>\n",
       "    </tr>\n",
       "  </tbody>\n",
       "</table>\n",
       "</div>"
      ],
      "text/plain": [
       "   work_orer priority               start_date error_code order_type  project  \\\n",
       "0     130720       Si  2018-11-07 00:00:00.000          C         SO    UK100   \n",
       "1     130721       No  2018-11-07 00:00:00.000          C         IO  SERVICE   \n",
       "2     130722       Si  2018-11-07 00:00:00.000          C         SO  SERVICE   \n",
       "\n",
       "  resource_id2 work_type          loc1  \n",
       "0     90020101    constr  City_Council  \n",
       "1     90020101    constr  Science_Univ  \n",
       "2     90020101    constr  Science_Univ  "
      ]
     },
     "execution_count": 273,
     "metadata": {},
     "output_type": "execute_result"
    }
   ],
   "source": [
    "train=train.drop(['type'],axis=1)\n",
    "test=test.drop(['type'],axis=1)\n",
    "test.head(3)"
   ]
  },
  {
   "cell_type": "code",
   "execution_count": 208,
   "metadata": {},
   "outputs": [],
   "source": [
    "train['priority'] = train.priority.astype('category',ordered=True)\n",
    "test['priority'] = test.priority.astype('category',ordered=True)"
   ]
  },
  {
   "cell_type": "code",
   "execution_count": 209,
   "metadata": {},
   "outputs": [],
   "source": [
    "train['error_code'] = train.error_code.astype('category',ordered=True)\n",
    "test['error_code'] = test.error_code.astype('category',ordered=True)"
   ]
  },
  {
   "cell_type": "code",
   "execution_count": 210,
   "metadata": {},
   "outputs": [],
   "source": [
    "train['order_type'] = train.order_type.astype('category',ordered=True)\n",
    "test['order_type'] = test.order_type.astype('category',ordered=True)"
   ]
  },
  {
   "cell_type": "code",
   "execution_count": 211,
   "metadata": {},
   "outputs": [],
   "source": [
    "train['project'] = train.project.astype('category',ordered=True)\n",
    "test['project'] = test.project.astype('category',ordered=True)"
   ]
  },
  {
   "cell_type": "markdown",
   "metadata": {},
   "source": [
    "### 4. Tidy Data"
   ]
  },
  {
   "cell_type": "code",
   "execution_count": 212,
   "metadata": {},
   "outputs": [],
   "source": [
    "train['resource_id2'] = train.resource_id2.astype('category',ordered=True)\n",
    "test['resource_id2'] = test.resource_id2.astype('category',ordered=True)"
   ]
  },
  {
   "cell_type": "code",
   "execution_count": 214,
   "metadata": {},
   "outputs": [
    {
     "data": {
      "text/html": [
       "<div>\n",
       "<style scoped>\n",
       "    .dataframe tbody tr th:only-of-type {\n",
       "        vertical-align: middle;\n",
       "    }\n",
       "\n",
       "    .dataframe tbody tr th {\n",
       "        vertical-align: top;\n",
       "    }\n",
       "\n",
       "    .dataframe thead th {\n",
       "        text-align: right;\n",
       "    }\n",
       "</style>\n",
       "<table border=\"1\" class=\"dataframe\">\n",
       "  <thead>\n",
       "    <tr style=\"text-align: right;\">\n",
       "      <th></th>\n",
       "      <th>work_orer</th>\n",
       "      <th>priority</th>\n",
       "      <th>start_date</th>\n",
       "      <th>error_code</th>\n",
       "      <th>order_type</th>\n",
       "      <th>project</th>\n",
       "      <th>resource_id2</th>\n",
       "      <th>type</th>\n",
       "      <th>work_type</th>\n",
       "      <th>loc1</th>\n",
       "    </tr>\n",
       "  </thead>\n",
       "  <tbody>\n",
       "    <tr>\n",
       "      <th>0</th>\n",
       "      <td>130280</td>\n",
       "      <td>No</td>\n",
       "      <td>2018-10-04 00:00:00.000</td>\n",
       "      <td>E</td>\n",
       "      <td>IO</td>\n",
       "      <td>UK100</td>\n",
       "      <td>90080123</td>\n",
       "      <td>1</td>\n",
       "      <td>elect</td>\n",
       "      <td>City_Council</td>\n",
       "    </tr>\n",
       "    <tr>\n",
       "      <th>1</th>\n",
       "      <td>130281</td>\n",
       "      <td>No</td>\n",
       "      <td>2018-10-04 00:00:00.000</td>\n",
       "      <td>3</td>\n",
       "      <td>SO</td>\n",
       "      <td>SERVICE</td>\n",
       "      <td>90080101</td>\n",
       "      <td>4</td>\n",
       "      <td>handyman</td>\n",
       "      <td>Science_Univ</td>\n",
       "    </tr>\n",
       "  </tbody>\n",
       "</table>\n",
       "</div>"
      ],
      "text/plain": [
       "   work_orer priority               start_date error_code order_type  project  \\\n",
       "0     130280       No  2018-10-04 00:00:00.000          E         IO    UK100   \n",
       "1     130281       No  2018-10-04 00:00:00.000          3         SO  SERVICE   \n",
       "\n",
       "  resource_id2  type work_type          loc1  \n",
       "0     90080123     1     elect  City_Council  \n",
       "1     90080101     4  handyman  Science_Univ  "
      ]
     },
     "execution_count": 214,
     "metadata": {},
     "output_type": "execute_result"
    }
   ],
   "source": [
    "train.head(2)"
   ]
  },
  {
   "cell_type": "code",
   "execution_count": 215,
   "metadata": {
    "scrolled": true
   },
   "outputs": [
    {
     "data": {
      "text/html": [
       "<div>\n",
       "<style scoped>\n",
       "    .dataframe tbody tr th:only-of-type {\n",
       "        vertical-align: middle;\n",
       "    }\n",
       "\n",
       "    .dataframe tbody tr th {\n",
       "        vertical-align: top;\n",
       "    }\n",
       "\n",
       "    .dataframe thead th {\n",
       "        text-align: right;\n",
       "    }\n",
       "</style>\n",
       "<table border=\"1\" class=\"dataframe\">\n",
       "  <thead>\n",
       "    <tr style=\"text-align: right;\">\n",
       "      <th></th>\n",
       "      <th>work_orer</th>\n",
       "      <th>priority</th>\n",
       "      <th>start_date</th>\n",
       "      <th>error_code</th>\n",
       "      <th>order_type</th>\n",
       "      <th>project</th>\n",
       "      <th>resource_id2</th>\n",
       "      <th>type</th>\n",
       "      <th>work_type</th>\n",
       "      <th>loc1</th>\n",
       "    </tr>\n",
       "  </thead>\n",
       "  <tbody>\n",
       "    <tr>\n",
       "      <th>0</th>\n",
       "      <td>130720</td>\n",
       "      <td>Si</td>\n",
       "      <td>2018-11-07 00:00:00.000</td>\n",
       "      <td>C</td>\n",
       "      <td>SO</td>\n",
       "      <td>UK100</td>\n",
       "      <td>90020101</td>\n",
       "      <td>0</td>\n",
       "      <td>constr</td>\n",
       "      <td>City_Council</td>\n",
       "    </tr>\n",
       "    <tr>\n",
       "      <th>1</th>\n",
       "      <td>130721</td>\n",
       "      <td>No</td>\n",
       "      <td>2018-11-07 00:00:00.000</td>\n",
       "      <td>C</td>\n",
       "      <td>IO</td>\n",
       "      <td>SERVICE</td>\n",
       "      <td>90020101</td>\n",
       "      <td>0</td>\n",
       "      <td>constr</td>\n",
       "      <td>Science_Univ</td>\n",
       "    </tr>\n",
       "  </tbody>\n",
       "</table>\n",
       "</div>"
      ],
      "text/plain": [
       "   work_orer priority               start_date error_code order_type  project  \\\n",
       "0     130720       Si  2018-11-07 00:00:00.000          C         SO    UK100   \n",
       "1     130721       No  2018-11-07 00:00:00.000          C         IO  SERVICE   \n",
       "\n",
       "  resource_id2  type work_type          loc1  \n",
       "0     90020101     0    constr  City_Council  \n",
       "1     90020101     0    constr  Science_Univ  "
      ]
     },
     "execution_count": 215,
     "metadata": {},
     "output_type": "execute_result"
    }
   ],
   "source": [
    "test.head(2)"
   ]
  },
  {
   "cell_type": "code",
   "execution_count": 274,
   "metadata": {},
   "outputs": [
    {
     "name": "stdout",
     "output_type": "stream",
     "text": [
      "Stored 'train' (DataFrame)\n",
      "Stored 'test' (DataFrame)\n"
     ]
    }
   ],
   "source": [
    "%store train\n",
    "%store test"
   ]
  },
  {
   "cell_type": "markdown",
   "metadata": {},
   "source": [
    "## EDA"
   ]
  },
  {
   "cell_type": "code",
   "execution_count": 445,
   "metadata": {},
   "outputs": [
    {
     "data": {
      "text/html": [
       "<div>\n",
       "<style scoped>\n",
       "    .dataframe tbody tr th:only-of-type {\n",
       "        vertical-align: middle;\n",
       "    }\n",
       "\n",
       "    .dataframe tbody tr th {\n",
       "        vertical-align: top;\n",
       "    }\n",
       "\n",
       "    .dataframe thead th {\n",
       "        text-align: right;\n",
       "    }\n",
       "</style>\n",
       "<table border=\"1\" class=\"dataframe\">\n",
       "  <thead>\n",
       "    <tr style=\"text-align: right;\">\n",
       "      <th>work_type</th>\n",
       "      <th>carp</th>\n",
       "      <th>constr</th>\n",
       "      <th>elect</th>\n",
       "      <th>handyman</th>\n",
       "      <th>plumb</th>\n",
       "    </tr>\n",
       "    <tr>\n",
       "      <th>resource_id2</th>\n",
       "      <th></th>\n",
       "      <th></th>\n",
       "      <th></th>\n",
       "      <th></th>\n",
       "      <th></th>\n",
       "    </tr>\n",
       "  </thead>\n",
       "  <tbody>\n",
       "    <tr>\n",
       "      <th>80080202</th>\n",
       "      <td>0</td>\n",
       "      <td>0</td>\n",
       "      <td>0</td>\n",
       "      <td>40</td>\n",
       "      <td>11</td>\n",
       "    </tr>\n",
       "    <tr>\n",
       "      <th>80080303</th>\n",
       "      <td>3</td>\n",
       "      <td>6</td>\n",
       "      <td>0</td>\n",
       "      <td>44</td>\n",
       "      <td>0</td>\n",
       "    </tr>\n",
       "    <tr>\n",
       "      <th>90020101</th>\n",
       "      <td>18</td>\n",
       "      <td>38</td>\n",
       "      <td>0</td>\n",
       "      <td>2</td>\n",
       "      <td>0</td>\n",
       "    </tr>\n",
       "    <tr>\n",
       "      <th>90080101</th>\n",
       "      <td>0</td>\n",
       "      <td>0</td>\n",
       "      <td>0</td>\n",
       "      <td>53</td>\n",
       "      <td>2</td>\n",
       "    </tr>\n",
       "    <tr>\n",
       "      <th>90080102</th>\n",
       "      <td>0</td>\n",
       "      <td>0</td>\n",
       "      <td>83</td>\n",
       "      <td>0</td>\n",
       "      <td>0</td>\n",
       "    </tr>\n",
       "    <tr>\n",
       "      <th>90080123</th>\n",
       "      <td>0</td>\n",
       "      <td>0</td>\n",
       "      <td>51</td>\n",
       "      <td>0</td>\n",
       "      <td>0</td>\n",
       "    </tr>\n",
       "  </tbody>\n",
       "</table>\n",
       "</div>"
      ],
      "text/plain": [
       "work_type     carp  constr  elect  handyman  plumb\n",
       "resource_id2                                      \n",
       "80080202         0       0      0        40     11\n",
       "80080303         3       6      0        44      0\n",
       "90020101        18      38      0         2      0\n",
       "90080101         0       0      0        53      2\n",
       "90080102         0       0     83         0      0\n",
       "90080123         0       0     51         0      0"
      ]
     },
     "execution_count": 445,
     "metadata": {},
     "output_type": "execute_result"
    }
   ],
   "source": [
    "pd.crosstab(train.resource_id2,train.work_type)"
   ]
  },
  {
   "cell_type": "markdown",
   "metadata": {},
   "source": [
    "### Scatter Matrix"
   ]
  },
  {
   "cell_type": "markdown",
   "metadata": {},
   "source": [
    "* 0: solo trabaja con fontaneria\n",
    "* 1: trabaja con constr, carp, pero sobre todo con fontaneria\n",
    "* 2: constr*, elect,small stuff\n",
    "* 3: Solo fontaneria*\n",
    "* 4: Solo Elect\n",
    "* 5: Solo Elect\n",
    "    \n",
    "Summary:\n",
    "* 2 electricistas: 4, 5\n",
    "* 2 Fontaneros: 0, 3\n",
    "* Chapuzas: 1. Chapuzas fontanero: 1\n",
    "            2. Chapuzas elect: 2"
   ]
  },
  {
   "cell_type": "code",
   "execution_count": 65,
   "metadata": {},
   "outputs": [
    {
     "data": {
      "image/png": "[encoded data removed]",
      "text/plain": [
       "<Figure size 1800x1800 with 110 Axes>"
      ]
     },
     "metadata": {
      "needs_background": "light"
     },
     "output_type": "display_data"
    }
   ],
   "source": [
    "#scatter_matrix(X_train, figsize=[12,12],s=150,alpha=0.2)\n",
    "#pd.plotting.scatter_matrix(X_train, c=y_train.resource_id2, figsize = [12,12],\n",
    "#                      s=10, marker = 'D');\n"
   ]
  },
  {
   "cell_type": "markdown",
   "metadata": {},
   "source": [
    "### 1. Worker vs. Type of work\n",
    "\n",
    "* It is possible to appreciate that there is three type of workers:\n",
    "1. **Electricians**: Only Electricity related tasks: 90080102, 90080123 (**Green**)\n",
    "2. **Handy-Plumb\"**: Both Handyman and Plumbing tasks: 90020101, 0080202 (**Red+purple** bars)\n",
    "3. **Pure_Handy**: Handyman,Plumbing, costruction: 80080303 (This one doesn't make many construction), 90080101  (**Blue/Orage/Red**)\n"
   ]
  },
  {
   "cell_type": "code",
   "execution_count": 411,
   "metadata": {},
   "outputs": [
    {
     "data": {
      "text/html": [
       "<div>\n",
       "<style scoped>\n",
       "    .dataframe tbody tr th:only-of-type {\n",
       "        vertical-align: middle;\n",
       "    }\n",
       "\n",
       "    .dataframe tbody tr th {\n",
       "        vertical-align: top;\n",
       "    }\n",
       "\n",
       "    .dataframe thead th {\n",
       "        text-align: right;\n",
       "    }\n",
       "</style>\n",
       "<table border=\"1\" class=\"dataframe\">\n",
       "  <thead>\n",
       "    <tr style=\"text-align: right;\">\n",
       "      <th>work_type</th>\n",
       "      <th>carp</th>\n",
       "      <th>constr</th>\n",
       "      <th>elect</th>\n",
       "      <th>handyman</th>\n",
       "      <th>plumb</th>\n",
       "    </tr>\n",
       "    <tr>\n",
       "      <th>resource_id2</th>\n",
       "      <th></th>\n",
       "      <th></th>\n",
       "      <th></th>\n",
       "      <th></th>\n",
       "      <th></th>\n",
       "    </tr>\n",
       "  </thead>\n",
       "  <tbody>\n",
       "    <tr>\n",
       "      <th>80080202</th>\n",
       "      <td>0</td>\n",
       "      <td>0</td>\n",
       "      <td>0</td>\n",
       "      <td>40</td>\n",
       "      <td>11</td>\n",
       "    </tr>\n",
       "    <tr>\n",
       "      <th>80080303</th>\n",
       "      <td>3</td>\n",
       "      <td>6</td>\n",
       "      <td>0</td>\n",
       "      <td>44</td>\n",
       "      <td>0</td>\n",
       "    </tr>\n",
       "    <tr>\n",
       "      <th>90020101</th>\n",
       "      <td>18</td>\n",
       "      <td>38</td>\n",
       "      <td>0</td>\n",
       "      <td>2</td>\n",
       "      <td>0</td>\n",
       "    </tr>\n",
       "    <tr>\n",
       "      <th>90080101</th>\n",
       "      <td>0</td>\n",
       "      <td>0</td>\n",
       "      <td>0</td>\n",
       "      <td>53</td>\n",
       "      <td>2</td>\n",
       "    </tr>\n",
       "    <tr>\n",
       "      <th>90080102</th>\n",
       "      <td>0</td>\n",
       "      <td>0</td>\n",
       "      <td>83</td>\n",
       "      <td>0</td>\n",
       "      <td>0</td>\n",
       "    </tr>\n",
       "    <tr>\n",
       "      <th>90080123</th>\n",
       "      <td>0</td>\n",
       "      <td>0</td>\n",
       "      <td>51</td>\n",
       "      <td>0</td>\n",
       "      <td>0</td>\n",
       "    </tr>\n",
       "  </tbody>\n",
       "</table>\n",
       "</div>"
      ],
      "text/plain": [
       "work_type     carp  constr  elect  handyman  plumb\n",
       "resource_id2                                      \n",
       "80080202         0       0      0        40     11\n",
       "80080303         3       6      0        44      0\n",
       "90020101        18      38      0         2      0\n",
       "90080101         0       0      0        53      2\n",
       "90080102         0       0     83         0      0\n",
       "90080123         0       0     51         0      0"
      ]
     },
     "execution_count": 411,
     "metadata": {},
     "output_type": "execute_result"
    }
   ],
   "source": [
    "# Crosstab\n",
    "worker_workerType=pd.crosstab(train.resource_id2,train.work_type)\n",
    "worker_workerType"
   ]
  },
  {
   "cell_type": "code",
   "execution_count": 223,
   "metadata": {},
   "outputs": [
    {
     "data": {
      "image/png": "[encoded data removed]",
      "text/plain": [
       "<Figure size 432x288 with 1 Axes>"
      ]
     },
     "metadata": {
      "needs_background": "light"
     },
     "output_type": "display_data"
    }
   ],
   "source": [
    "# Create a bar plot of 'k_zones'\n",
    "worker_workerType.plot(kind='barh', stacked=True)\n",
    "# Display the plot\n",
    "plt.show()"
   ]
  },
  {
   "cell_type": "markdown",
   "metadata": {},
   "source": [
    "### 2. Worker vs. Place\n",
    "\n",
    "Data much more fuzzy than before\n",
    "\n",
    "* And Not much Cancer Inst\n",
    "\n",
    "* Cancer_Inst: Only 3 workers, work there: 90080101,90080102,90080123. Still this place doesn't require a lot of work\t\n",
    "\n",
    "* All workers work at the 5 different places, BUT the \"80080303\" who doesn't work at Science Univ\n"
   ]
  },
  {
   "cell_type": "code",
   "execution_count": 226,
   "metadata": {},
   "outputs": [
    {
     "data": {
      "text/html": [
       "<div>\n",
       "<style scoped>\n",
       "    .dataframe tbody tr th:only-of-type {\n",
       "        vertical-align: middle;\n",
       "    }\n",
       "\n",
       "    .dataframe tbody tr th {\n",
       "        vertical-align: top;\n",
       "    }\n",
       "\n",
       "    .dataframe thead th {\n",
       "        text-align: right;\n",
       "    }\n",
       "</style>\n",
       "<table border=\"1\" class=\"dataframe\">\n",
       "  <thead>\n",
       "    <tr style=\"text-align: right;\">\n",
       "      <th>loc1</th>\n",
       "      <th>Arts_Stamford</th>\n",
       "      <th>Cancer_Inst</th>\n",
       "      <th>City_Council</th>\n",
       "      <th>Computing_College</th>\n",
       "      <th>Science_Univ</th>\n",
       "    </tr>\n",
       "    <tr>\n",
       "      <th>resource_id2</th>\n",
       "      <th></th>\n",
       "      <th></th>\n",
       "      <th></th>\n",
       "      <th></th>\n",
       "      <th></th>\n",
       "    </tr>\n",
       "  </thead>\n",
       "  <tbody>\n",
       "    <tr>\n",
       "      <th>80080202</th>\n",
       "      <td>1</td>\n",
       "      <td>3</td>\n",
       "      <td>30</td>\n",
       "      <td>15</td>\n",
       "      <td>2</td>\n",
       "    </tr>\n",
       "    <tr>\n",
       "      <th>80080303</th>\n",
       "      <td>8</td>\n",
       "      <td>8</td>\n",
       "      <td>27</td>\n",
       "      <td>10</td>\n",
       "      <td>0</td>\n",
       "    </tr>\n",
       "    <tr>\n",
       "      <th>90020101</th>\n",
       "      <td>1</td>\n",
       "      <td>13</td>\n",
       "      <td>16</td>\n",
       "      <td>9</td>\n",
       "      <td>19</td>\n",
       "    </tr>\n",
       "    <tr>\n",
       "      <th>90080101</th>\n",
       "      <td>1</td>\n",
       "      <td>0</td>\n",
       "      <td>25</td>\n",
       "      <td>5</td>\n",
       "      <td>24</td>\n",
       "    </tr>\n",
       "    <tr>\n",
       "      <th>90080102</th>\n",
       "      <td>26</td>\n",
       "      <td>0</td>\n",
       "      <td>12</td>\n",
       "      <td>36</td>\n",
       "      <td>9</td>\n",
       "    </tr>\n",
       "    <tr>\n",
       "      <th>90080123</th>\n",
       "      <td>10</td>\n",
       "      <td>0</td>\n",
       "      <td>11</td>\n",
       "      <td>24</td>\n",
       "      <td>6</td>\n",
       "    </tr>\n",
       "  </tbody>\n",
       "</table>\n",
       "</div>"
      ],
      "text/plain": [
       "loc1          Arts_Stamford  Cancer_Inst  City_Council  Computing_College  \\\n",
       "resource_id2                                                                \n",
       "80080202                  1            3            30                 15   \n",
       "80080303                  8            8            27                 10   \n",
       "90020101                  1           13            16                  9   \n",
       "90080101                  1            0            25                  5   \n",
       "90080102                 26            0            12                 36   \n",
       "90080123                 10            0            11                 24   \n",
       "\n",
       "loc1          Science_Univ  \n",
       "resource_id2                \n",
       "80080202                 2  \n",
       "80080303                 0  \n",
       "90020101                19  \n",
       "90080101                24  \n",
       "90080102                 9  \n",
       "90080123                 6  "
      ]
     },
     "execution_count": 226,
     "metadata": {},
     "output_type": "execute_result"
    }
   ],
   "source": [
    "# Crossval'\n",
    "worker_loc=pd.crosstab(train.resource_id2,train.loc1)\n",
    "worker_loc"
   ]
  },
  {
   "cell_type": "code",
   "execution_count": 227,
   "metadata": {},
   "outputs": [
    {
     "data": {
      "image/png": "[encoded data removed]",
      "text/plain": [
       "<Figure size 432x288 with 1 Axes>"
      ]
     },
     "metadata": {
      "needs_background": "light"
     },
     "output_type": "display_data"
    }
   ],
   "source": [
    "# Create a bar plot of 'k_zones'\n",
    "worker_loc.plot(kind='barh', stacked=True)\n",
    "# Display the plot\n",
    "plt.show()"
   ]
  },
  {
   "cell_type": "markdown",
   "metadata": {},
   "source": [
    "### 3. Worker vs. Priority\n",
    "\n",
    "Ä The worker 90080101 is by far taking the high priority tasks, which agree with:\n",
    "    1. the fact that he works in all places\n",
    "    2. He is the \"pure handyman\" of the team"
   ]
  },
  {
   "cell_type": "code",
   "execution_count": 250,
   "metadata": {},
   "outputs": [
    {
     "data": {
      "text/html": [
       "<div>\n",
       "<style scoped>\n",
       "    .dataframe tbody tr th:only-of-type {\n",
       "        vertical-align: middle;\n",
       "    }\n",
       "\n",
       "    .dataframe tbody tr th {\n",
       "        vertical-align: top;\n",
       "    }\n",
       "\n",
       "    .dataframe thead th {\n",
       "        text-align: right;\n",
       "    }\n",
       "</style>\n",
       "<table border=\"1\" class=\"dataframe\">\n",
       "  <thead>\n",
       "    <tr style=\"text-align: right;\">\n",
       "      <th>priority</th>\n",
       "      <th>No</th>\n",
       "      <th>No_se</th>\n",
       "      <th>Si</th>\n",
       "    </tr>\n",
       "    <tr>\n",
       "      <th>resource_id2</th>\n",
       "      <th></th>\n",
       "      <th></th>\n",
       "      <th></th>\n",
       "    </tr>\n",
       "  </thead>\n",
       "  <tbody>\n",
       "    <tr>\n",
       "      <th>80080202</th>\n",
       "      <td>47</td>\n",
       "      <td>0</td>\n",
       "      <td>4</td>\n",
       "    </tr>\n",
       "    <tr>\n",
       "      <th>80080303</th>\n",
       "      <td>52</td>\n",
       "      <td>0</td>\n",
       "      <td>1</td>\n",
       "    </tr>\n",
       "    <tr>\n",
       "      <th>90020101</th>\n",
       "      <td>47</td>\n",
       "      <td>1</td>\n",
       "      <td>10</td>\n",
       "    </tr>\n",
       "    <tr>\n",
       "      <th>90080101</th>\n",
       "      <td>20</td>\n",
       "      <td>0</td>\n",
       "      <td>35</td>\n",
       "    </tr>\n",
       "    <tr>\n",
       "      <th>90080102</th>\n",
       "      <td>61</td>\n",
       "      <td>1</td>\n",
       "      <td>21</td>\n",
       "    </tr>\n",
       "    <tr>\n",
       "      <th>90080123</th>\n",
       "      <td>46</td>\n",
       "      <td>2</td>\n",
       "      <td>3</td>\n",
       "    </tr>\n",
       "  </tbody>\n",
       "</table>\n",
       "</div>"
      ],
      "text/plain": [
       "priority      No  No_se  Si\n",
       "resource_id2               \n",
       "80080202      47      0   4\n",
       "80080303      52      0   1\n",
       "90020101      47      1  10\n",
       "90080101      20      0  35\n",
       "90080102      61      1  21\n",
       "90080123      46      2   3"
      ]
     },
     "execution_count": 250,
     "metadata": {},
     "output_type": "execute_result"
    }
   ],
   "source": [
    "id_priority=pd.crosstab(train.resource_id2,train.priority)\n",
    "id_priority"
   ]
  },
  {
   "cell_type": "code",
   "execution_count": 251,
   "metadata": {},
   "outputs": [
    {
     "data": {
      "image/png": "[encoded data removed]",
      "text/plain": [
       "<Figure size 432x288 with 1 Axes>"
      ]
     },
     "metadata": {
      "needs_background": "light"
     },
     "output_type": "display_data"
    }
   ],
   "source": [
    "id_priority.plot(kind='barh', stacked=True); plt.show()"
   ]
  },
  {
   "cell_type": "markdown",
   "metadata": {},
   "source": [
    "### 4. Worker vs. error_code\n",
    "\n",
    "There is a clear ressemblance with the comparison with the `work_type``\n",
    "\n",
    "Both variables may be describing the same thing. Careful!"
   ]
  },
  {
   "cell_type": "markdown",
   "metadata": {},
   "source": [
    "id_error=pd.crosstab(train.resource_id2,train.error_code)\n",
    "print(id_error)\n",
    "id_error.plot(kind='barh', stacked=True); plt.show()"
   ]
  },
  {
   "cell_type": "code",
   "execution_count": 254,
   "metadata": {},
   "outputs": [
    {
     "name": "stdout",
     "output_type": "stream",
     "text": [
      "error_code   3   4   C    E\n",
      "work_type                  \n",
      "carp         0   0  21    0\n",
      "constr       0   0  44    0\n",
      "elect        0   0   0  134\n",
      "handyman    94  43   2    0\n",
      "plumb        6   7   0    0\n"
     ]
    },
    {
     "data": {
      "image/png": "[encoded data removed]",
      "text/plain": [
       "<Figure size 432x288 with 1 Axes>"
      ]
     },
     "metadata": {
      "needs_background": "light"
     },
     "output_type": "display_data"
    }
   ],
   "source": [
    "wType_error=pd.crosstab(train.work_type,train.error_code)\n",
    "print(wType_error)\n",
    "wType_error.plot(kind='barh', stacked=True); plt.show()"
   ]
  },
  {
   "cell_type": "markdown",
   "metadata": {},
   "source": [
    "* Electricity = Code E **Red**\n",
    "* Constr + Carp = Code C (Constructuion) **Green**\n",
    "* Code 3 and 4 - Handy man () **Orange/blue**"
   ]
  },
  {
   "cell_type": "code",
   "execution_count": null,
   "metadata": {},
   "outputs": [],
   "source": [
    "wType_error=pd.crosstab(train.work_type,train.error_code)\n",
    "print(wType_error)\n",
    "wType_error.plot(kind='barh', stacked=True); plt.show()"
   ]
  },
  {
   "cell_type": "code",
   "execution_count": 271,
   "metadata": {},
   "outputs": [
    {
     "name": "stdout",
     "output_type": "stream",
     "text": [
      "/bin/sh: -c: line 0: syntax error near unexpected token `\"output.png\"'\r\n",
      "/bin/sh: -c: line 0: `[EDA](\"output.png\")'\r\n"
     ]
    }
   ],
   "source": [
    "![EDA](\"output.png\")"
   ]
  },
  {
   "cell_type": "markdown",
   "metadata": {},
   "source": [
    "# Machine Learning"
   ]
  },
  {
   "cell_type": "markdown",
   "metadata": {},
   "source": [
    "## Unsuperised: Hierarchical Clustering. Dendograms\n",
    "(See the other notebook: `unit4_graphs.ipynb`)"
   ]
  },
  {
   "cell_type": "markdown",
   "metadata": {},
   "source": [
    "### Run the `unit4_graphs.ipynb` NoteBook here and come back"
   ]
  },
  {
   "cell_type": "code",
   "execution_count": 343,
   "metadata": {},
   "outputs": [],
   "source": [
    "%store -r ct4_5\n",
    "%store -r ct4\n",
    "%store -r X_train_1_num\n",
    "%store -r X_train_2_num\n",
    "%store -r X_test_1_num\n",
    "%store -r X_test_2_num\n",
    "%store -r varieties\n",
    "%store -r y_test_num"
   ]
  },
  {
   "cell_type": "code",
   "execution_count": 345,
   "metadata": {},
   "outputs": [],
   "source": [
    "X_test_1_num=X_test_1_num.drop(['work_orer'],axis=1)\n",
    "X_test_2_num=X_test_2_num.drop(['work_orer'],axis=1)"
   ]
  },
  {
   "cell_type": "code",
   "execution_count": null,
   "metadata": {},
   "outputs": [],
   "source": [
    "print(X_train_1_num.shape, X_train_2_num.shape,varieties.shape)\n",
    "print(X_test_1_num.shape, X_test_2_num.shape)"
   ]
  },
  {
   "cell_type": "code",
   "execution_count": 308,
   "metadata": {},
   "outputs": [
    {
     "data": {
      "text/plain": [
       "Index(['error_code', 'project', 'loc1'], dtype='object')"
      ]
     },
     "execution_count": 308,
     "metadata": {},
     "output_type": "execute_result"
    }
   ],
   "source": [
    "X_train_1=train.drop(['work_orer','work_type','priority', 'start_date', 'order_type','resource_id2'], axis=1)\n",
    "X_train_1.columns"
   ]
  },
  {
   "cell_type": "code",
   "execution_count": 299,
   "metadata": {},
   "outputs": [
    {
     "data": {
      "text/html": [
       "<div>\n",
       "<style scoped>\n",
       "    .dataframe tbody tr th:only-of-type {\n",
       "        vertical-align: middle;\n",
       "    }\n",
       "\n",
       "    .dataframe tbody tr th {\n",
       "        vertical-align: top;\n",
       "    }\n",
       "\n",
       "    .dataframe thead th {\n",
       "        text-align: right;\n",
       "    }\n",
       "</style>\n",
       "<table border=\"1\" class=\"dataframe\">\n",
       "  <thead>\n",
       "    <tr style=\"text-align: right;\">\n",
       "      <th>varieties</th>\n",
       "      <th>0</th>\n",
       "      <th>1</th>\n",
       "      <th>2</th>\n",
       "      <th>3</th>\n",
       "      <th>4</th>\n",
       "      <th>5</th>\n",
       "    </tr>\n",
       "    <tr>\n",
       "      <th>labels</th>\n",
       "      <th></th>\n",
       "      <th></th>\n",
       "      <th></th>\n",
       "      <th></th>\n",
       "      <th></th>\n",
       "      <th></th>\n",
       "    </tr>\n",
       "  </thead>\n",
       "  <tbody>\n",
       "    <tr>\n",
       "      <th>1</th>\n",
       "      <td>51</td>\n",
       "      <td>44</td>\n",
       "      <td>1</td>\n",
       "      <td>55</td>\n",
       "      <td>0</td>\n",
       "      <td>0</td>\n",
       "    </tr>\n",
       "    <tr>\n",
       "      <th>2</th>\n",
       "      <td>0</td>\n",
       "      <td>2</td>\n",
       "      <td>28</td>\n",
       "      <td>0</td>\n",
       "      <td>45</td>\n",
       "      <td>30</td>\n",
       "    </tr>\n",
       "    <tr>\n",
       "      <th>3</th>\n",
       "      <td>0</td>\n",
       "      <td>7</td>\n",
       "      <td>29</td>\n",
       "      <td>0</td>\n",
       "      <td>38</td>\n",
       "      <td>21</td>\n",
       "    </tr>\n",
       "  </tbody>\n",
       "</table>\n",
       "</div>"
      ],
      "text/plain": [
       "varieties   0   1   2   3   4   5\n",
       "labels                           \n",
       "1          51  44   1  55   0   0\n",
       "2           0   2  28   0  45  30\n",
       "3           0   7  29   0  38  21"
      ]
     },
     "execution_count": 299,
     "metadata": {},
     "output_type": "execute_result"
    }
   ],
   "source": [
    "ct4_5"
   ]
  },
  {
   "cell_type": "code",
   "execution_count": 311,
   "metadata": {},
   "outputs": [
    {
     "data": {
      "text/plain": [
       "Index(['priority', 'error_code', 'project', 'work_type', 'loc1'], dtype='object')"
      ]
     },
     "execution_count": 311,
     "metadata": {},
     "output_type": "execute_result"
    }
   ],
   "source": [
    "X_train_2=train.drop(['work_orer','start_date', 'order_type','resource_id2'], axis=1)\n",
    "X_train_2.columns"
   ]
  },
  {
   "cell_type": "code",
   "execution_count": 303,
   "metadata": {},
   "outputs": [
    {
     "data": {
      "text/html": [
       "<div>\n",
       "<style scoped>\n",
       "    .dataframe tbody tr th:only-of-type {\n",
       "        vertical-align: middle;\n",
       "    }\n",
       "\n",
       "    .dataframe tbody tr th {\n",
       "        vertical-align: top;\n",
       "    }\n",
       "\n",
       "    .dataframe thead th {\n",
       "        text-align: right;\n",
       "    }\n",
       "</style>\n",
       "<table border=\"1\" class=\"dataframe\">\n",
       "  <thead>\n",
       "    <tr style=\"text-align: right;\">\n",
       "      <th>varieties</th>\n",
       "      <th>0</th>\n",
       "      <th>1</th>\n",
       "      <th>2</th>\n",
       "      <th>3</th>\n",
       "      <th>4</th>\n",
       "      <th>5</th>\n",
       "    </tr>\n",
       "    <tr>\n",
       "      <th>labels</th>\n",
       "      <th></th>\n",
       "      <th></th>\n",
       "      <th></th>\n",
       "      <th></th>\n",
       "      <th></th>\n",
       "      <th></th>\n",
       "    </tr>\n",
       "  </thead>\n",
       "  <tbody>\n",
       "    <tr>\n",
       "      <th>1</th>\n",
       "      <td>32</td>\n",
       "      <td>36</td>\n",
       "      <td>1</td>\n",
       "      <td>1</td>\n",
       "      <td>0</td>\n",
       "      <td>0</td>\n",
       "    </tr>\n",
       "    <tr>\n",
       "      <th>2</th>\n",
       "      <td>19</td>\n",
       "      <td>8</td>\n",
       "      <td>0</td>\n",
       "      <td>54</td>\n",
       "      <td>0</td>\n",
       "      <td>0</td>\n",
       "    </tr>\n",
       "    <tr>\n",
       "      <th>3</th>\n",
       "      <td>0</td>\n",
       "      <td>2</td>\n",
       "      <td>28</td>\n",
       "      <td>0</td>\n",
       "      <td>45</td>\n",
       "      <td>30</td>\n",
       "    </tr>\n",
       "    <tr>\n",
       "      <th>4</th>\n",
       "      <td>0</td>\n",
       "      <td>6</td>\n",
       "      <td>24</td>\n",
       "      <td>0</td>\n",
       "      <td>9</td>\n",
       "      <td>8</td>\n",
       "    </tr>\n",
       "    <tr>\n",
       "      <th>5</th>\n",
       "      <td>0</td>\n",
       "      <td>1</td>\n",
       "      <td>5</td>\n",
       "      <td>0</td>\n",
       "      <td>29</td>\n",
       "      <td>13</td>\n",
       "    </tr>\n",
       "  </tbody>\n",
       "</table>\n",
       "</div>"
      ],
      "text/plain": [
       "varieties   0   1   2   3   4   5\n",
       "labels                           \n",
       "1          32  36   1   1   0   0\n",
       "2          19   8   0  54   0   0\n",
       "3           0   2  28   0  45  30\n",
       "4           0   6  24   0   9   8\n",
       "5           0   1   5   0  29  13"
      ]
     },
     "execution_count": 303,
     "metadata": {},
     "output_type": "execute_result"
    }
   ],
   "source": [
    "ct4"
   ]
  },
  {
   "cell_type": "markdown",
   "metadata": {},
   "source": [
    "#### Prepare the rest of data for the ML"
   ]
  },
  {
   "cell_type": "code",
   "execution_count": 325,
   "metadata": {},
   "outputs": [],
   "source": [
    "y_train=train['resource_id2'].values\n",
    "y_test=test['resource_id2'].values"
   ]
  },
  {
   "cell_type": "code",
   "execution_count": 312,
   "metadata": {},
   "outputs": [],
   "source": [
    "X_test_1=test.drop(['work_orer','work_type','priority', 'start_date', 'order_type','resource_id2'], axis=1)\n",
    "X_test_2=test.drop(['work_orer','start_date', 'order_type','resource_id2'], axis=1)"
   ]
  },
  {
   "cell_type": "code",
   "execution_count": 320,
   "metadata": {},
   "outputs": [],
   "source": [
    "y_train_num=varieties "
   ]
  },
  {
   "cell_type": "markdown",
   "metadata": {},
   "source": [
    "## 1. K-Nearest Neighbors"
   ]
  },
  {
   "cell_type": "code",
   "execution_count": 420,
   "metadata": {},
   "outputs": [],
   "source": [
    "from sklearn.neighbors import KNeighborsClassifier\n",
    "from sklearn.metrics import classification_report"
   ]
  },
  {
   "cell_type": "code",
   "execution_count": 354,
   "metadata": {},
   "outputs": [
    {
     "name": "stdout",
     "output_type": "stream",
     "text": [
      "0.711864406779661\n",
      "0.711864406779661\n",
      "0.7288135593220338\n",
      "0.711864406779661\n",
      "0.7288135593220338\n",
      "0.6610169491525424\n"
     ]
    }
   ],
   "source": [
    "# Create a k-NN classifier\n",
    "knn_7=KNeighborsClassifier(n_neighbors=7)\n",
    "knn_7.fit(X_train_1_num,y_train_num)\n",
    "y_pred_knn_7_1=knn_7.predict(X_test_1_num)\n",
    "print(knn_7.score(X_test_1_num,y_test_num))\n",
    "\n",
    "# Create a k-NN classifier\n",
    "knn_6=KNeighborsClassifier(n_neighbors=6)\n",
    "knn_6.fit(X_train_1_num,y_train_num)\n",
    "y_pred_knn_6_1=knn_6.predict(X_test_1_num)\n",
    "print(knn_6.score(X_test_1_num,y_test_num))\n",
    "\n",
    "# Create a k-NN classifier\n",
    "knn_5=KNeighborsClassifier(n_neighbors=5)\n",
    "knn_5.fit(X_train_1_num,y_train_num)\n",
    "y_pred_knn_5_1=knn_5.predict(X_test_1_num)\n",
    "print(knn_5.score(X_test_1_num,y_test_num))\n",
    "\n",
    "# Create a k-NN classifier\n",
    "knn_4=KNeighborsClassifier(n_neighbors=4)\n",
    "knn_4.fit(X_train_1_num,y_train_num)\n",
    "y_pred_knn_4_1=knn_4.predict(X_test_1_num)\n",
    "print(knn_4.score(X_test_1_num,y_test_num))\n",
    "\n",
    "# Create a k-NN classifier\n",
    "knn_3=KNeighborsClassifier(n_neighbors=3)\n",
    "knn_3.fit(X_train_1_num,y_train_num)\n",
    "y_pred_knn_3_1=knn_3.predict(X_test_1_num)\n",
    "print(knn_3.score(X_test_1_num,y_test_num))\n",
    "\n",
    "knn_2=KNeighborsClassifier(n_neighbors=2)\n",
    "knn_2.fit(X_train_1_num,y_train_num)\n",
    "y_pred_knn_2_1=knn_2.predict(X_test_1_num)\n",
    "print(knn_2.score(X_test_1_num,y_test_num))"
   ]
  },
  {
   "cell_type": "markdown",
   "metadata": {},
   "source": [
    "k-nn with max score are k-nn with 5 and 3 neighbors\n",
    "k-nn with max score are **k-nn** with **5**, 7 neighbors with `X_train_1_num`:\n",
    "**`'error_code', 'project','loc1'`**"
   ]
  },
  {
   "cell_type": "code",
   "execution_count": 381,
   "metadata": {},
   "outputs": [
    {
     "name": "stdout",
     "output_type": "stream",
     "text": [
      "0.711864406779661\n",
      "0.711864406779661\n",
      "0.7627118644067796\n",
      "0.7627118644067796\n",
      "0.6949152542372882\n",
      "0.7457627118644068\n",
      "0.6271186440677966\n",
      "0.6610169491525424\n"
     ]
    }
   ],
   "source": [
    "# Create a k-NN classifier\n",
    "knn_9=KNeighborsClassifier(n_neighbors=8)\n",
    "knn_9.fit(X_train_2_num,y_train_num)\n",
    "y_pred_knn_9_2=knn_9.predict(X_test_2_num)\n",
    "print(knn_9.score(X_test_2_num,y_test_num))\n",
    "\n",
    "knn_8=KNeighborsClassifier(n_neighbors=8)\n",
    "knn_8.fit(X_train_2_num,y_train_num)\n",
    "y_pred_knn_8_2=knn_8.predict(X_test_2_num)\n",
    "print(knn_8.score(X_test_2_num,y_test_num))\n",
    "\n",
    "knn_7=KNeighborsClassifier(n_neighbors=7)\n",
    "knn_7.fit(X_train_2_num,y_train_num)\n",
    "y_pred_knn_7_2=knn_7.predict(X_test_2_num)\n",
    "print(knn_7.score(X_test_2_num,y_test_num))\n",
    "\n",
    "# Create a k-NN classifier\n",
    "knn_6=KNeighborsClassifier(n_neighbors=6)\n",
    "knn_6.fit(X_train_2_num,y_train_num)\n",
    "y_pred_knn_6_2=knn_6.predict(X_test_2_num)\n",
    "print(knn_6.score(X_test_2_num,y_test_num))\n",
    "\n",
    "# Create a k-NN classifier\n",
    "knn_5=KNeighborsClassifier(n_neighbors=5)\n",
    "knn_5.fit(X_train_2_num,y_train_num)\n",
    "y_pred_knn_5_2=knn_5.predict(X_test_2_num)\n",
    "print(knn_5.score(X_test_2_num,y_test_num))\n",
    "\n",
    "# Create a k-NN classifier\n",
    "knn_4=KNeighborsClassifier(n_neighbors=4)\n",
    "knn_4.fit(X_train_2_num,y_train_num)\n",
    "y_pred_knn_4_2=knn_4.predict(X_test_2_num)\n",
    "print(knn_4.score(X_test_2_num,y_test_num))\n",
    "\n",
    "# Create a k-NN classifier\n",
    "knn_3=KNeighborsClassifier(n_neighbors=3)\n",
    "knn_3.fit(X_train_2_num,y_train_num)\n",
    "y_pred_knn_3_2=knn_3.predict(X_test_2_num)\n",
    "print(knn_3.score(X_test_2_num,y_test_num))\n",
    "\n",
    "knn_2=KNeighborsClassifier(n_neighbors=2)\n",
    "knn_2.fit(X_train_2_num,y_train_num)\n",
    "y_pred_knn_2_2=knn_2.predict(X_test_2_num)\n",
    "print(knn_2.score(X_test_2_num,y_test_num))"
   ]
  },
  {
   "cell_type": "markdown",
   "metadata": {},
   "source": [
    "k-nn with max score are **k-nn** with  **6**, **7** neighbors with `X_train_2_num`:\n",
    "**`'priority', 'error_code', 'project', 'work_type', 'loc1'`**\n",
    "\n",
    "### Score with `6-neighboors= 0.76271` ; pred: `y_pred_knn_6_2`"
   ]
  },
  {
   "cell_type": "markdown",
   "metadata": {},
   "source": [
    "### Comparison:"
   ]
  },
  {
   "cell_type": "code",
   "execution_count": 421,
   "metadata": {},
   "outputs": [
    {
     "name": "stdout",
     "output_type": "stream",
     "text": [
      "              precision    recall  f1-score   support\n",
      "\n",
      "           0       1.00      0.46      0.63        13\n",
      "           1       0.64      1.00      0.78         7\n",
      "           2       0.80      1.00      0.89         8\n",
      "           3       0.73      0.92      0.81        12\n",
      "           4       0.78      0.50      0.61        14\n",
      "           5       0.38      0.60      0.46         5\n",
      "\n",
      "   micro avg       0.71      0.71      0.71        59\n",
      "   macro avg       0.72      0.75      0.70        59\n",
      "weighted avg       0.77      0.71      0.70        59\n",
      "\n"
     ]
    }
   ],
   "source": [
    "print(classification_report(y_test_num, y_pred_knn_6_1))"
   ]
  },
  {
   "cell_type": "code",
   "execution_count": 422,
   "metadata": {},
   "outputs": [
    {
     "name": "stdout",
     "output_type": "stream",
     "text": [
      "              precision    recall  f1-score   support\n",
      "\n",
      "           0       1.00      0.38      0.56        13\n",
      "           1       0.64      1.00      0.78         7\n",
      "           2       0.89      1.00      0.94         8\n",
      "           3       0.71      1.00      0.83        12\n",
      "           4       0.76      0.93      0.84        14\n",
      "           5       0.00      0.00      0.00         5\n",
      "\n",
      "   micro avg       0.76      0.76      0.76        59\n",
      "   macro avg       0.67      0.72      0.66        59\n",
      "weighted avg       0.74      0.76      0.71        59\n",
      "\n"
     ]
    }
   ],
   "source": [
    "print(classification_report(y_test_num, y_pred_knn_6_2))"
   ]
  },
  {
   "cell_type": "markdown",
   "metadata": {},
   "source": [
    "### Grid search Cross-validation. BAD !!!!!"
   ]
  },
  {
   "cell_type": "code",
   "execution_count": 368,
   "metadata": {},
   "outputs": [],
   "source": [
    "from sklearn.model_selection import GridSearchCV"
   ]
  },
  {
   "cell_type": "code",
   "execution_count": 371,
   "metadata": {},
   "outputs": [
    {
     "name": "stdout",
     "output_type": "stream",
     "text": [
      "{'n_neighbors': 18}\n",
      "0.5897435897435898\n"
     ]
    },
    {
     "name": "stderr",
     "output_type": "stream",
     "text": [
      "/Users/anacaballero-herrera/anaconda3/lib/python3.6/site-packages/sklearn/model_selection/_search.py:841: DeprecationWarning: The default of the `iid` parameter will change from True to False in version 0.22 and will be removed in 0.24. This will change numeric results when test-set sizes are unequal.\n",
      "  DeprecationWarning)\n"
     ]
    }
   ],
   "source": [
    "param_grid={'n_neighbors':np.arange(1,20)}\n",
    "knn=KNeighborsClassifier()\n",
    "knn_cv=GridSearchCV(knn,param_grid, cv=5)\n",
    "knn_cv.fit(X_train_1_num,y_train_num)\n",
    "print(knn_cv.best_params_)\n",
    "print(knn_cv.best_score_)"
   ]
  },
  {
   "cell_type": "code",
   "execution_count": 380,
   "metadata": {},
   "outputs": [
    {
     "name": "stdout",
     "output_type": "stream",
     "text": [
      "0.6779661016949152\n"
     ]
    }
   ],
   "source": [
    "knn_18=KNeighborsClassifier(n_neighbors=18)\n",
    "knn_18.fit(X_train_2_num,y_train_num)\n",
    "y_pred_knn_18_2=knn_2.predict(X_test_2_num)\n",
    "print(knn_18.score(X_test_2_num,y_test_num))"
   ]
  },
  {
   "cell_type": "markdown",
   "metadata": {},
   "source": [
    "## 2. Decission Tree"
   ]
  },
  {
   "cell_type": "code",
   "execution_count": 442,
   "metadata": {},
   "outputs": [
    {
     "name": "stdout",
     "output_type": "stream",
     "text": [
      "[0.79228 0.00117 0.20655]\n",
      "0.6552706552706553\n",
      "error_code project loc1\n",
      "[0.13932 0.60676 0.02091 0.0613  0.17171]\n",
      "0.7578347578347578\n",
      "priority error_code project work_type loc1\n"
     ]
    }
   ],
   "source": [
    "### Decision tree\n",
    "\n",
    "# Import 'tree' from scikit-learn library\n",
    "from sklearn import tree\n",
    "\n",
    "# Fit your first decision tree: my_tree_one\n",
    "my_tree_1 = tree.DecisionTreeClassifier()\n",
    "my_tree_1.fit(X_train_1_num,y_train_num)\n",
    "\n",
    "# Look at the importance and score of the included features\n",
    "print(my_tree_1.feature_importances_)\n",
    "print(my_tree_1.score(X_train_1_num,y_train_num))\n",
    "print('error_code', 'project', 'loc1')\n",
    "\n",
    "# Fit your first decision tree: my_tree_one\n",
    "my_tree_2 = tree.DecisionTreeClassifier()\n",
    "my_tree_2.fit(X_train_2_num,y_train_num)\n",
    "\n",
    "# Look at the importance and score of the included features\n",
    "print(my_tree_2.feature_importances_)\n",
    "print(my_tree_2.score(X_train_2_num,y_train_num))\n",
    "print('priority', 'error_code', 'project', 'work_type', 'loc1')"
   ]
  },
  {
   "cell_type": "markdown",
   "metadata": {},
   "source": [
    "## 2. Tunning with RandomizedSearchCV. Decision Tree"
   ]
  },
  {
   "cell_type": "code",
   "execution_count": null,
   "metadata": {},
   "outputs": [],
   "source": []
  },
  {
   "cell_type": "markdown",
   "metadata": {},
   "source": [
    "## 3. Tunning with RandomizedSearchCV. Decision Tree"
   ]
  },
  {
   "cell_type": "code",
   "execution_count": 427,
   "metadata": {},
   "outputs": [
    {
     "name": "stdout",
     "output_type": "stream",
     "text": [
      "Tuned Decision Tree Parameters: {'criterion': 'entropy', 'max_depth': None, 'max_features': 1, 'min_samples_leaf': 1}\n",
      "Best score is 0.5754985754985755\n"
     ]
    },
    {
     "name": "stderr",
     "output_type": "stream",
     "text": [
      "/Users/anacaballero-herrera/anaconda3/lib/python3.6/site-packages/sklearn/model_selection/_search.py:841: DeprecationWarning: The default of the `iid` parameter will change from True to False in version 0.22 and will be removed in 0.24. This will change numeric results when test-set sizes are unequal.\n",
      "  DeprecationWarning)\n"
     ]
    }
   ],
   "source": [
    "# Import necessary modules\n",
    "from scipy.stats import randint\n",
    "from sklearn.tree import DecisionTreeClassifier\n",
    "from sklearn.model_selection import RandomizedSearchCV\n",
    "\n",
    "# Setup the parameters and distributions to sample from: param_dist\n",
    "param_dist = {\"max_depth\": [3, None],\n",
    "              \"max_features\": randint(1, 3),\n",
    "              \"min_samples_leaf\": randint(1, 3),\n",
    "              \"criterion\": [\"gini\", \"entropy\"]}\n",
    "\n",
    "# Instantiate a Decision Tree classifier: tree\n",
    "tree = DecisionTreeClassifier()\n",
    "\n",
    "# Instantiate the RandomizedSearchCV object: tree_cv\n",
    "tree_cv = RandomizedSearchCV(tree,param_dist, cv=5)\n",
    "\n",
    "# Fit it to the data\n",
    "tree_cv.fit(X_train_1_num,y_train_num)\n",
    "\n",
    "# Print the tuned parameters and score\n",
    "print(\"Tuned Decision Tree Parameters: {}\".format(tree_cv.best_params_))\n",
    "print(\"Best score is {}\".format(tree_cv.best_score_))"
   ]
  },
  {
   "cell_type": "code",
   "execution_count": 429,
   "metadata": {},
   "outputs": [
    {
     "name": "stdout",
     "output_type": "stream",
     "text": [
      "X_train_2_num\n",
      "Tuned Decision Tree Parameters: {'criterion': 'gini', 'max_depth': None, 'max_features': 4, 'min_samples_leaf': 1}\n",
      "Best score is 0.6809116809116809\n"
     ]
    },
    {
     "name": "stderr",
     "output_type": "stream",
     "text": [
      "/Users/anacaballero-herrera/anaconda3/lib/python3.6/site-packages/sklearn/model_selection/_search.py:841: DeprecationWarning: The default of the `iid` parameter will change from True to False in version 0.22 and will be removed in 0.24. This will change numeric results when test-set sizes are unequal.\n",
      "  DeprecationWarning)\n"
     ]
    }
   ],
   "source": [
    "print('X_train_2_num')\n",
    "#X_train_2_num\n",
    "param_dist = {\"max_depth\": [3, None],\n",
    "              \"max_features\": randint(1, 5),\n",
    "              \"min_samples_leaf\": randint(1, 5),\n",
    "              \"criterion\": [\"gini\", \"entropy\"]}\n",
    "tree_cv = RandomizedSearchCV(tree,param_dist, cv=5)\n",
    "tree_cv.fit(X_train_2_num,y_train_num)\n",
    "print(\"Tuned Decision Tree Parameters: {}\".format(tree_cv.best_params_))\n",
    "print(\"Best score is {}\".format(tree_cv.best_score_))"
   ]
  },
  {
   "cell_type": "code",
   "execution_count": 431,
   "metadata": {},
   "outputs": [
    {
     "name": "stdout",
     "output_type": "stream",
     "text": [
      "0.7627118644067796\n"
     ]
    },
    {
     "name": "stderr",
     "output_type": "stream",
     "text": [
      "/Users/anacaballero-herrera/anaconda3/lib/python3.6/site-packages/sklearn/model_selection/_search.py:841: DeprecationWarning: The default of the `iid` parameter will change from True to False in version 0.22 and will be removed in 0.24. This will change numeric results when test-set sizes are unequal.\n",
      "  DeprecationWarning)\n"
     ]
    }
   ],
   "source": [
    "param_dist = {\"max_depth\": [3, None],\n",
    "              \"max_features\": 2,\n",
    "              \"min_samples_leaf\": 3,\n",
    "              \"criterion\": [\"gini\"]}\n",
    "tree_cv.fit(X_train_2_num,y_train_num)\n",
    "y_pred_tree_cv=tree_cv.predict(X_test_2_num)\n",
    "print(tree_cv.score(X_test_2_num,y_test_num))"
   ]
  },
  {
   "cell_type": "code",
   "execution_count": 424,
   "metadata": {},
   "outputs": [
    {
     "name": "stdout",
     "output_type": "stream",
     "text": [
      "              precision    recall  f1-score   support\n",
      "\n",
      "           0       1.00      0.38      0.56        13\n",
      "           1       0.75      0.86      0.80         7\n",
      "           2       1.00      1.00      1.00         8\n",
      "           3       0.63      1.00      0.77        12\n",
      "           4       0.74      1.00      0.85        14\n",
      "           5       0.00      0.00      0.00         5\n",
      "\n",
      "   micro avg       0.76      0.76      0.76        59\n",
      "   macro avg       0.69      0.71      0.66        59\n",
      "weighted avg       0.75      0.76      0.71        59\n",
      "\n"
     ]
    }
   ],
   "source": [
    "print(classification_report(y_test_num, y_pred_tree_cv))"
   ]
  },
  {
   "cell_type": "markdown",
   "metadata": {},
   "source": [
    "# Best score `0.7627118`, file `y_pred_tree_cv`"
   ]
  },
  {
   "cell_type": "markdown",
   "metadata": {},
   "source": [
    "## 3. Random Forest"
   ]
  },
  {
   "cell_type": "code",
   "execution_count": 418,
   "metadata": {},
   "outputs": [
    {
     "name": "stdout",
     "output_type": "stream",
     "text": [
      "\n",
      "Accuracy:  0.711864406779661\n"
     ]
    }
   ],
   "source": [
    "# Import random forest classifer\n",
    "from sklearn.ensemble import RandomForestClassifier\n",
    "\n",
    "# Edit model step in pipeline\n",
    "pl = Pipeline([\n",
    "        ('clf', RandomForestClassifier())\n",
    "    ])\n",
    "\n",
    "# Fit to the training data\n",
    "pl.fit(X_train_2_num, y_train_num)\n",
    "y_pred_random_forest=pl.predict(X_test_2_num)\n",
    "# Compute and print accuracy\n",
    "accuracy = pl.score(X_test_2_num, y_test_num)\n",
    "print(\"\\nAccuracy: \", accuracy)"
   ]
  },
  {
   "cell_type": "markdown",
   "metadata": {},
   "source": [
    "### Accuracy varies a lot between run and run!!!!!! file: y_pred_random_forest"
   ]
  },
  {
   "cell_type": "code",
   "execution_count": null,
   "metadata": {},
   "outputs": [],
   "source": [
    "\n",
    "\n",
    "\n",
    "\n",
    "\n",
    "\n",
    "\n",
    "\n",
    "\n",
    "\n",
    "\n",
    "\n",
    "\n",
    "\n",
    "\n"
   ]
  },
  {
   "cell_type": "markdown",
   "metadata": {},
   "source": [
    "## Some extras: Not very important \n",
    "\n",
    "USING all Features: Choosing correct hyperparameters"
   ]
  },
  {
   "cell_type": "markdown",
   "metadata": {},
   "source": [
    "### Interaction term"
   ]
  },
  {
   "cell_type": "code",
   "execution_count": 195,
   "metadata": {},
   "outputs": [],
   "source": [
    "from sklearn.preprocessing import PolynomialFeatures"
   ]
  },
  {
   "cell_type": "code",
   "execution_count": 196,
   "metadata": {},
   "outputs": [],
   "source": [
    "interaction = PolynomialFeatures(degree=2, interaction_only=True, include_bias=False)\n",
    "X_inter=interaction.fit_transform(X_train)"
   ]
  },
  {
   "cell_type": "code",
   "execution_count": 200,
   "metadata": {},
   "outputs": [
    {
     "name": "stdout",
     "output_type": "stream",
     "text": [
      "0.717948717948718\n"
     ]
    }
   ],
   "source": [
    "clf_i=OneVsRestClassifier(LogisticRegression())\n",
    "clf_i.fit(X_inter,y_train)\n",
    "\n",
    "print(clf_i.score(X_inter,y_train))"
   ]
  },
  {
   "cell_type": "markdown",
   "metadata": {},
   "source": [
    "No!!! Not better. Not eneough data, I think"
   ]
  },
  {
   "cell_type": "markdown",
   "metadata": {},
   "source": [
    "X_train.head()"
   ]
  },
  {
   "cell_type": "code",
   "execution_count": 251,
   "metadata": {},
   "outputs": [
    {
     "data": {
      "text/plain": [
       "<function matplotlib.pyplot.show(*args, **kw)>"
      ]
     },
     "execution_count": 251,
     "metadata": {},
     "output_type": "execute_result"
    },
    {
     "data": {
      "image/png": "[encoded data removed]",
      "text/plain": [
       "<Figure size 432x288 with 1 Axes>"
      ]
     },
     "metadata": {
      "needs_background": "light"
     },
     "output_type": "display_data"
    }
   ],
   "source": [
    "xs=X_train['location']\n",
    "ys=X_train['project']\n",
    "\n",
    "plt.scatter(xs,ys,s=(X_train['class']*100+300), c=labels, alpha=0.5)\n",
    "plt.show"
   ]
  },
  {
   "cell_type": "code",
   "execution_count": 254,
   "metadata": {},
   "outputs": [
    {
     "data": {
      "image/png": "[encoded data removed]",
      "text/plain": [
       "<Figure size 432x288 with 1 Axes>"
      ]
     },
     "metadata": {
      "needs_background": "light"
     },
     "output_type": "display_data"
    }
   ],
   "source": [
    "xs=X_train['class']\n",
    "ys=X_train['project']\n",
    "fig, ax = plt.subplots()\n",
    "ax.scatter(xs, ys, c=labels, s=(X_train['location']*100+300), alpha=0.5)\n",
    "\n",
    "ax.set_xlabel(r'class', fontsize=15)\n",
    "ax.set_ylabel(r'project', fontsize=15)\n",
    "ax.set_title('Project vs. type_work')\n",
    "\n",
    "ax.grid(False)\n",
    "fig.tight_layout()"
   ]
  },
  {
   "cell_type": "code",
   "execution_count": null,
   "metadata": {},
   "outputs": [],
   "source": [
    "grupo 1: Projectos(0) <-> Type_work(Construction, Plumb, Carp)\n",
    "grupo 2: Projectos(0,1,2) <-> Type_work(Plumbing, Carp, Stuff)\n",
    "grupo 3:\n",
    "    \n",
    "    ??????"
   ]
  },
  {
   "cell_type": "code",
   "execution_count": 258,
   "metadata": {},
   "outputs": [
    {
     "data": {
      "image/png": "[encoded data removed]",
      "text/plain": [
       "<Figure size 432x288 with 1 Axes>"
      ]
     },
     "metadata": {
      "needs_background": "light"
     },
     "output_type": "display_data"
    }
   ],
   "source": [
    "ys=X_train['class']\n",
    "xs=X_train['location']\n",
    "fig, ax = plt.subplots()\n",
    "ax.scatter(xs, ys, c=labels, s=(X_train['project']*100+300), alpha=0.5)\n",
    "\n",
    "ax.set_xlabel('location', fontsize=15)\n",
    "ax.set_ylabel('type of work', fontsize=15)\n",
    "ax.set_title(' Type of work vs. Location')\n",
    "\n",
    "ax.grid(False)\n",
    "fig.tight_layout()"
   ]
  },
  {
   "cell_type": "code",
   "execution_count": null,
   "metadata": {},
   "outputs": [],
   "source": [
    "grupo 1: Location(0,1,2)<-> Type_work(Construction, Electricity)\n",
    "grupo 2: Location(0,1,2)<-> Type_work(Plumbing, Carp, Stuff)\n",
    "grupo 3: Location(3,4)  <-> Type_work (Construction, Electricity,Plumbing, Carp)"
   ]
  },
  {
   "cell_type": "code",
   "execution_count": 306,
   "metadata": {},
   "outputs": [
    {
     "data": {
      "text/html": [
       "<div>\n",
       "<style scoped>\n",
       "    .dataframe tbody tr th:only-of-type {\n",
       "        vertical-align: middle;\n",
       "    }\n",
       "\n",
       "    .dataframe tbody tr th {\n",
       "        vertical-align: top;\n",
       "    }\n",
       "\n",
       "    .dataframe thead th {\n",
       "        text-align: right;\n",
       "    }\n",
       "</style>\n",
       "<table border=\"1\" class=\"dataframe\">\n",
       "  <thead>\n",
       "    <tr style=\"text-align: right;\">\n",
       "      <th></th>\n",
       "      <th>priority</th>\n",
       "      <th>error_code</th>\n",
       "      <th>project</th>\n",
       "      <th>location</th>\n",
       "      <th>class</th>\n",
       "      <th>resource_id2</th>\n",
       "    </tr>\n",
       "  </thead>\n",
       "  <tbody>\n",
       "    <tr>\n",
       "      <th>0</th>\n",
       "      <td>2</td>\n",
       "      <td>2</td>\n",
       "      <td>2</td>\n",
       "      <td>1</td>\n",
       "      <td>0</td>\n",
       "      <td>2</td>\n",
       "    </tr>\n",
       "    <tr>\n",
       "      <th>1</th>\n",
       "      <td>0</td>\n",
       "      <td>2</td>\n",
       "      <td>1</td>\n",
       "      <td>3</td>\n",
       "      <td>0</td>\n",
       "      <td>2</td>\n",
       "    </tr>\n",
       "    <tr>\n",
       "      <th>2</th>\n",
       "      <td>2</td>\n",
       "      <td>2</td>\n",
       "      <td>1</td>\n",
       "      <td>3</td>\n",
       "      <td>0</td>\n",
       "      <td>2</td>\n",
       "    </tr>\n",
       "    <tr>\n",
       "      <th>3</th>\n",
       "      <td>0</td>\n",
       "      <td>2</td>\n",
       "      <td>0</td>\n",
       "      <td>4</td>\n",
       "      <td>0</td>\n",
       "      <td>2</td>\n",
       "    </tr>\n",
       "    <tr>\n",
       "      <th>4</th>\n",
       "      <td>0</td>\n",
       "      <td>2</td>\n",
       "      <td>2</td>\n",
       "      <td>1</td>\n",
       "      <td>0</td>\n",
       "      <td>2</td>\n",
       "    </tr>\n",
       "  </tbody>\n",
       "</table>\n",
       "</div>"
      ],
      "text/plain": [
       "   priority  error_code  project  location  class  resource_id2\n",
       "0         2           2        2         1      0             2\n",
       "1         0           2        1         3      0             2\n",
       "2         2           2        1         3      0             2\n",
       "3         0           2        0         4      0             2\n",
       "4         0           2        2         1      0             2"
      ]
     },
     "execution_count": 306,
     "metadata": {},
     "output_type": "execute_result"
    }
   ],
   "source": [
    "X_train_2=result = pd.concat([X_train, y_train], axis=1, sort=False)\n",
    "X_train_2.head()\n",
    "X_test_2=result = pd.concat([X_test, target], axis=1, sort=False)\n",
    "X_test_2.head()"
   ]
  },
  {
   "cell_type": "code",
   "execution_count": 302,
   "metadata": {},
   "outputs": [],
   "source": [
    "model=KMeans(n_clusters=4)\n",
    "model.fit(X_train_2)\n",
    "labels=model.predict(X_train_2)"
   ]
  },
  {
   "cell_type": "code",
   "execution_count": 305,
   "metadata": {},
   "outputs": [
    {
     "data": {
      "image/png": "[encoded data removed]",
      "text/plain": [
       "<Figure size 432x288 with 1 Axes>"
      ]
     },
     "metadata": {
      "needs_background": "light"
     },
     "output_type": "display_data"
    }
   ],
   "source": [
    "ys=X_train_2['class']\n",
    "xs=X_train_2['resource_id2']\n",
    "fig, ax = plt.subplots()\n",
    "ax.scatter(xs, ys, c=labels, s=(X_train_2['project']*100+300), alpha=0.5)\n",
    "\n",
    "ax.set_xlabel('resource_id2', fontsize=15)\n",
    "ax.set_ylabel('type of work', fontsize=15)\n",
    "ax.set_title(' Type of work vs. resource_id2')\n",
    "\n",
    "ax.grid(False)\n",
    "fig.tight_layout()"
   ]
  },
  {
   "cell_type": "code",
   "execution_count": null,
   "metadata": {},
   "outputs": [],
   "source": [
    "Group 0: Constr: only resource 1 and 2\n",
    "Group 1: Electricians are resources: 4 and 5\n",
    "Group 2: Only plumb: resource 3\n",
    "Group 3: Plumb/Carp: resource 0 (Only Plumb),1, 2 (carp)\n",
    "\n",
    "\n",
    "Plumb= resources 0,1,3"
   ]
  },
  {
   "cell_type": "code",
   "execution_count": 300,
   "metadata": {},
   "outputs": [
    {
     "data": {
      "image/png": "[encoded data removed]",
      "text/plain": [
       "<Figure size 432x288 with 1 Axes>"
      ]
     },
     "metadata": {
      "needs_background": "light"
     },
     "output_type": "display_data"
    }
   ],
   "source": [
    "xs=X_train_2['location']\n",
    "ys=X_train_2['resource_id2']\n",
    "fig, ax = plt.subplots()\n",
    "ax.scatter(xs, ys, c=labels, s=(X_train_2['project']*100+300), alpha=0.5)\n",
    "\n",
    "ax.set_ylabel('resource_id2', fontsize=15)\n",
    "ax.set_xlabel('location', fontsize=15)\n",
    "ax.set_title(' Location vs. resource_id2')\n",
    "\n",
    "ax.grid(False)\n",
    "fig.tight_layout()"
   ]
  },
  {
   "cell_type": "code",
   "execution_count": 313,
   "metadata": {},
   "outputs": [
    {
     "data": {
      "image/png": "[encoded data removed]",
      "text/plain": [
       "<Figure size 432x288 with 1 Axes>"
      ]
     },
     "metadata": {
      "needs_background": "light"
     },
     "output_type": "display_data"
    }
   ],
   "source": [
    "xs=X_test['location']\n",
    "ys=target\n",
    "\n",
    "fig, ax = plt.subplots()\n",
    "ax.scatter(xs, ys, s=200, alpha=0.5)\n",
    "centroids =model.cluster_centers_\n",
    "centroids_x=centroids[:,0]\n",
    "centroids_y=centroids[:,1]\n",
    "plt.scatter(centroids_x,centroids_y,marker='D',s=50)\n",
    "ax.set_ylabel('resource_id2', fontsize=15)\n",
    "ax.set_xlabel('location', fontsize=15)\n",
    "ax.set_title(' Location vs. resource_id2')\n",
    "\n",
    "ax.grid(False)\n",
    "fig.tight_layout()"
   ]
  },
  {
   "cell_type": "code",
   "execution_count": null,
   "metadata": {},
   "outputs": [],
   "source": [
    "centroids =model.cluster_centers_\n",
    "centroids_x=centroids[:,0]\n",
    "centroids_y=centroids[:,1]\n",
    "plt.scatter(centroids_x,centroids_y,marker='D',s=50)\n",
    "ax.set_ylabel('resource_id2', fontsize=15)\n",
    "ax.set_xlabel('location', fontsize=15)\n",
    "ax.set_title(' Location vs. resource_id2')\n",
    "\n",
    "ax.grid(False)\n",
    "fig.tight_layout()"
   ]
  },
  {
   "cell_type": "code",
   "execution_count": 374,
   "metadata": {},
   "outputs": [
    {
     "data": {
      "text/html": [
       "<div>\n",
       "<style scoped>\n",
       "    .dataframe tbody tr th:only-of-type {\n",
       "        vertical-align: middle;\n",
       "    }\n",
       "\n",
       "    .dataframe tbody tr th {\n",
       "        vertical-align: top;\n",
       "    }\n",
       "\n",
       "    .dataframe thead th {\n",
       "        text-align: right;\n",
       "    }\n",
       "</style>\n",
       "<table border=\"1\" class=\"dataframe\">\n",
       "  <thead>\n",
       "    <tr style=\"text-align: right;\">\n",
       "      <th>location</th>\n",
       "      <th>0</th>\n",
       "      <th>1</th>\n",
       "      <th>2</th>\n",
       "      <th>3</th>\n",
       "      <th>4</th>\n",
       "    </tr>\n",
       "    <tr>\n",
       "      <th>resource_id2</th>\n",
       "      <th></th>\n",
       "      <th></th>\n",
       "      <th></th>\n",
       "      <th></th>\n",
       "      <th></th>\n",
       "    </tr>\n",
       "  </thead>\n",
       "  <tbody>\n",
       "    <tr>\n",
       "      <th>0</th>\n",
       "      <td>1</td>\n",
       "      <td>30</td>\n",
       "      <td>15</td>\n",
       "      <td>2</td>\n",
       "      <td>3</td>\n",
       "    </tr>\n",
       "    <tr>\n",
       "      <th>1</th>\n",
       "      <td>8</td>\n",
       "      <td>27</td>\n",
       "      <td>10</td>\n",
       "      <td>0</td>\n",
       "      <td>8</td>\n",
       "    </tr>\n",
       "    <tr>\n",
       "      <th>2</th>\n",
       "      <td>1</td>\n",
       "      <td>16</td>\n",
       "      <td>9</td>\n",
       "      <td>19</td>\n",
       "      <td>13</td>\n",
       "    </tr>\n",
       "    <tr>\n",
       "      <th>3</th>\n",
       "      <td>1</td>\n",
       "      <td>25</td>\n",
       "      <td>5</td>\n",
       "      <td>24</td>\n",
       "      <td>0</td>\n",
       "    </tr>\n",
       "    <tr>\n",
       "      <th>4</th>\n",
       "      <td>26</td>\n",
       "      <td>12</td>\n",
       "      <td>36</td>\n",
       "      <td>9</td>\n",
       "      <td>0</td>\n",
       "    </tr>\n",
       "    <tr>\n",
       "      <th>5</th>\n",
       "      <td>10</td>\n",
       "      <td>11</td>\n",
       "      <td>24</td>\n",
       "      <td>6</td>\n",
       "      <td>0</td>\n",
       "    </tr>\n",
       "  </tbody>\n",
       "</table>\n",
       "</div>"
      ],
      "text/plain": [
       "location       0   1   2   3   4\n",
       "resource_id2                    \n",
       "0              1  30  15   2   3\n",
       "1              8  27  10   0   8\n",
       "2              1  16   9  19  13\n",
       "3              1  25   5  24   0\n",
       "4             26  12  36   9   0\n",
       "5             10  11  24   6   0"
      ]
     },
     "execution_count": 374,
     "metadata": {},
     "output_type": "execute_result"
    }
   ],
   "source": [
    "zz=pd.crosstab(y_train_cat_class,X_train.location)\n",
    "zz"
   ]
  },
  {
   "cell_type": "code",
   "execution_count": 474,
   "metadata": {},
   "outputs": [],
   "source": [
    "Xx=pd.DataFrame(X_test_2_num)"
   ]
  },
  {
   "cell_type": "code",
   "execution_count": 479,
   "metadata": {},
   "outputs": [],
   "source": [
    "Xx['resource_id2_num']=y_test_num\n",
    "Xx['Pred_tree_cv']=y_pred_tree_cv\n",
    "Xx['pred_knn_6_2']=y_pred_knn_6_2\n",
    "Xx['pred_knn_6_1'] =y_pred_knn_6_1"
   ]
  },
  {
   "cell_type": "code",
   "execution_count": null,
   "metadata": {},
   "outputs": [],
   "source": [
    "Xx.to_csv('my.csv')"
   ]
  },
  {
   "cell_type": "code",
   "execution_count": null,
   "metadata": {},
   "outputs": [],
   "source": []
  }
 ],
 "metadata": {
  "kernelspec": {
   "display_name": "Python 3",
   "language": "python",
   "name": "python3"
  },
  "language_info": {
   "codemirror_mode": {
    "name": "ipython",
    "version": 3
   },
   "file_extension": ".py",
   "mimetype": "text/x-python",
   "name": "python",
   "nbconvert_exporter": "python",
   "pygments_lexer": "ipython3",
   "version": "3.6.8"
  }
 },
 "nbformat": 4,
 "nbformat_minor": 2
}
